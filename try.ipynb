{
 "cells": [
  {
   "cell_type": "markdown",
   "id": "83b61048",
   "metadata": {},
   "source": [
    "# Encoder-Decoder"
   ]
  },
  {
   "cell_type": "code",
   "execution_count": 1,
   "id": "2492dd00",
   "metadata": {},
   "outputs": [
    {
     "name": "stderr",
     "output_type": "stream",
     "text": [
      "d:\\anaconda3\\envs\\keraal\\lib\\site-packages\\tqdm\\auto.py:22: TqdmWarning: IProgress not found. Please update jupyter and ipywidgets. See https://ipywidgets.readthedocs.io/en/stable/user_install.html\n",
      "  from .autonotebook import tqdm as notebook_tqdm\n"
     ]
    }
   ],
   "source": [
    "from models.enc_and_dec import Encoder,Decoder\n",
    "from models.simple_GAN import Discriminator\n",
    "import option_parser\n",
    "import torch"
   ]
  },
  {
   "cell_type": "code",
   "execution_count": 2,
   "id": "a4787dde",
   "metadata": {
    "scrolled": true
   },
   "outputs": [],
   "source": [
    "parser = option_parser.get_parser()\n",
    "args, unknown = parser.parse_known_args()\n",
    "topo = (0, 0, 1, 2, 3, 0, 5, 6, 7, 0, 9, 10, 11, 12, 13, 12, 15, 16, 17, 12, 19, 20, 21)\n",
    "data = torch.rand((256, 64, 23, 3))\n",
    "offset = torch.rand((256, 64, 23, 1))"
   ]
  },
  {
   "cell_type": "code",
   "execution_count": 4,
   "id": "d57745a0",
   "metadata": {},
   "outputs": [
    {
     "name": "stdout",
     "output_type": "stream",
     "text": [
      "torch.Size([256, 16, 23, 16])\n",
      "torch.Size([256, 64, 23, 3])\n"
     ]
    }
   ],
   "source": [
    "#test encoder, decoder\n",
    "enc = Encoder(args, topo)\n",
    "\n",
    "z = enc(data, offset)\n",
    "print(z.shape)\n",
    "dec = Decoder(args,enc)\n",
    "offset2 = torch.rand((256, 16,23,1))\n",
    "reconstruct = dec(z, offset2)\n",
    "print(reconstruct.shape)"
   ]
  },
  {
   "cell_type": "code",
   "execution_count": 6,
   "id": "5a96d694",
   "metadata": {},
   "outputs": [
    {
     "name": "stdout",
     "output_type": "stream",
     "text": [
      "torch.Size([256, 1])\n",
      "tensor([[0.2956],\n",
      "        [0.2805],\n",
      "        [0.3466],\n",
      "        [0.2808],\n",
      "        [0.2463],\n",
      "        [0.2074],\n",
      "        [0.2475],\n",
      "        [0.4348],\n",
      "        [0.2457],\n",
      "        [0.2744],\n",
      "        [0.3426],\n",
      "        [0.2146],\n",
      "        [0.3891],\n",
      "        [0.3094],\n",
      "        [0.3792],\n",
      "        [0.3843],\n",
      "        [0.2920],\n",
      "        [0.2819],\n",
      "        [0.3358],\n",
      "        [0.2078],\n",
      "        [0.2565],\n",
      "        [0.2643],\n",
      "        [0.1927],\n",
      "        [0.3011],\n",
      "        [0.2150],\n",
      "        [0.2226],\n",
      "        [0.3211],\n",
      "        [0.1286],\n",
      "        [0.1883],\n",
      "        [0.2803],\n",
      "        [0.2159],\n",
      "        [0.4492],\n",
      "        [0.4361],\n",
      "        [0.3551],\n",
      "        [0.2298],\n",
      "        [0.3296],\n",
      "        [0.2289],\n",
      "        [0.1914],\n",
      "        [0.2496],\n",
      "        [0.2766],\n",
      "        [0.2892],\n",
      "        [0.1970],\n",
      "        [0.4227],\n",
      "        [0.2036],\n",
      "        [0.4411],\n",
      "        [0.2718],\n",
      "        [0.4215],\n",
      "        [0.3314],\n",
      "        [0.2523],\n",
      "        [0.2282],\n",
      "        [0.2133],\n",
      "        [0.2116],\n",
      "        [0.2882],\n",
      "        [0.1846],\n",
      "        [0.3281],\n",
      "        [0.2260],\n",
      "        [0.1435],\n",
      "        [0.2226],\n",
      "        [0.2031],\n",
      "        [0.3410],\n",
      "        [0.2178],\n",
      "        [0.1765],\n",
      "        [0.2198],\n",
      "        [0.3221],\n",
      "        [0.2953],\n",
      "        [0.4231],\n",
      "        [0.2206],\n",
      "        [0.3363],\n",
      "        [0.2049],\n",
      "        [0.3532],\n",
      "        [0.1856],\n",
      "        [0.2682],\n",
      "        [0.1706],\n",
      "        [0.2739],\n",
      "        [0.3907],\n",
      "        [0.3296],\n",
      "        [0.3182],\n",
      "        [0.3118],\n",
      "        [0.1041],\n",
      "        [0.3676],\n",
      "        [0.2661],\n",
      "        [0.3765],\n",
      "        [0.1860],\n",
      "        [0.2642],\n",
      "        [0.3572],\n",
      "        [0.2378],\n",
      "        [0.3229],\n",
      "        [0.2244],\n",
      "        [0.2017],\n",
      "        [0.2449],\n",
      "        [0.2281],\n",
      "        [0.2105],\n",
      "        [0.3085],\n",
      "        [0.3141],\n",
      "        [0.3207],\n",
      "        [0.4344],\n",
      "        [0.2415],\n",
      "        [0.3295],\n",
      "        [0.2658],\n",
      "        [0.2410],\n",
      "        [0.3234],\n",
      "        [0.3143],\n",
      "        [0.2486],\n",
      "        [0.2616],\n",
      "        [0.3706],\n",
      "        [0.3080],\n",
      "        [0.2150],\n",
      "        [0.3658],\n",
      "        [0.4338],\n",
      "        [0.3142],\n",
      "        [0.2052],\n",
      "        [0.1651],\n",
      "        [0.4221],\n",
      "        [0.1613],\n",
      "        [0.2310],\n",
      "        [0.4234],\n",
      "        [0.2738],\n",
      "        [0.4196],\n",
      "        [0.0508],\n",
      "        [0.2907],\n",
      "        [0.2888],\n",
      "        [0.2676],\n",
      "        [0.3093],\n",
      "        [0.2572],\n",
      "        [0.3588],\n",
      "        [0.2124],\n",
      "        [0.2972],\n",
      "        [0.3303],\n",
      "        [0.3514],\n",
      "        [0.2923],\n",
      "        [0.4325],\n",
      "        [0.1705],\n",
      "        [0.1025],\n",
      "        [0.1639],\n",
      "        [0.2139],\n",
      "        [0.2478],\n",
      "        [0.2253],\n",
      "        [0.1744],\n",
      "        [0.3474],\n",
      "        [0.2001],\n",
      "        [0.1346],\n",
      "        [0.2543],\n",
      "        [0.1337],\n",
      "        [0.3492],\n",
      "        [0.1858],\n",
      "        [0.3661],\n",
      "        [0.3178],\n",
      "        [0.2375],\n",
      "        [0.3222],\n",
      "        [0.3950],\n",
      "        [0.2585],\n",
      "        [0.4035],\n",
      "        [0.3411],\n",
      "        [0.3214],\n",
      "        [0.2998],\n",
      "        [0.2750],\n",
      "        [0.2366],\n",
      "        [0.3314],\n",
      "        [0.3100],\n",
      "        [0.2422],\n",
      "        [0.3219],\n",
      "        [0.1183],\n",
      "        [0.2412],\n",
      "        [0.2697],\n",
      "        [0.2578],\n",
      "        [0.1979],\n",
      "        [0.3092],\n",
      "        [0.3806],\n",
      "        [0.2003],\n",
      "        [0.3496],\n",
      "        [0.2217],\n",
      "        [0.2547],\n",
      "        [0.2849],\n",
      "        [0.2984],\n",
      "        [0.2475],\n",
      "        [0.3147],\n",
      "        [0.4140],\n",
      "        [0.4453],\n",
      "        [0.1669],\n",
      "        [0.2052],\n",
      "        [0.1881],\n",
      "        [0.3497],\n",
      "        [0.3928],\n",
      "        [0.3196],\n",
      "        [0.2309],\n",
      "        [0.1991],\n",
      "        [0.2809],\n",
      "        [0.3627],\n",
      "        [0.2648],\n",
      "        [0.2497],\n",
      "        [0.2178],\n",
      "        [0.3132],\n",
      "        [0.3351],\n",
      "        [0.2675],\n",
      "        [0.4423],\n",
      "        [0.2550],\n",
      "        [0.3273],\n",
      "        [0.2376],\n",
      "        [0.3060],\n",
      "        [0.3115],\n",
      "        [0.4253],\n",
      "        [0.2132],\n",
      "        [0.2678],\n",
      "        [0.3164],\n",
      "        [0.3311],\n",
      "        [0.3345],\n",
      "        [0.2661],\n",
      "        [0.1556],\n",
      "        [0.2951],\n",
      "        [0.3378],\n",
      "        [0.1522],\n",
      "        [0.3281],\n",
      "        [0.3476],\n",
      "        [0.2935],\n",
      "        [0.5212],\n",
      "        [0.3817],\n",
      "        [0.1024],\n",
      "        [0.3646],\n",
      "        [0.3591],\n",
      "        [0.1905],\n",
      "        [0.3568],\n",
      "        [0.2907],\n",
      "        [0.2606],\n",
      "        [0.3076],\n",
      "        [0.2502],\n",
      "        [0.3024],\n",
      "        [0.1826],\n",
      "        [0.1677],\n",
      "        [0.2648],\n",
      "        [0.2354],\n",
      "        [0.3007],\n",
      "        [0.2255],\n",
      "        [0.4004],\n",
      "        [0.3044],\n",
      "        [0.2191],\n",
      "        [0.2874],\n",
      "        [0.2971],\n",
      "        [0.2488],\n",
      "        [0.2491],\n",
      "        [0.2536],\n",
      "        [0.2681],\n",
      "        [0.2571],\n",
      "        [0.3595],\n",
      "        [0.3004],\n",
      "        [0.3525],\n",
      "        [0.2326],\n",
      "        [0.3402],\n",
      "        [0.2837],\n",
      "        [0.2840],\n",
      "        [0.1265],\n",
      "        [0.2947],\n",
      "        [0.2185],\n",
      "        [0.2082],\n",
      "        [0.3268],\n",
      "        [0.2832],\n",
      "        [0.3202]], grad_fn=<AddmmBackward0>)\n"
     ]
    }
   ],
   "source": [
    "dis = Discriminator(args,topo)\n",
    "data = torch.rand((256, 64, 23, 3))\n",
    "offset = torch.rand((256, 64, 23, 1))\n",
    "\n",
    "new_input = torch.concat([data,offset],dim = -1)\n",
    "res = dis(new_input)\n",
    "print(res.shape)\n",
    "print(res)"
   ]
  },
  {
   "cell_type": "markdown",
   "id": "d6358126",
   "metadata": {},
   "source": [
    "# Network"
   ]
  },
  {
   "cell_type": "code",
   "execution_count": 2,
   "id": "da973a4e",
   "metadata": {},
   "outputs": [
    {
     "name": "stdout",
     "output_type": "stream",
     "text": [
      "load from file ./datasets/train_set/npy/Abe.npy\n",
      "Window count: 219, total frame: 10960\n",
      "load from file ./datasets/train_set/npy/Adam.npy\n",
      "Window count: 219, total frame: 10741\n",
      "load from file ./datasets/train_set/npy/Amy.npy\n",
      "Window count: 170, total frame: 8790\n",
      "load from file ./datasets/train_set/npy/Astra.npy\n",
      "Window count: 247, total frame: 11989\n",
      "load from file ./datasets/train_set/npy/Crypto.npy\n",
      "Window count: 206, total frame: 10453\n",
      "load from file ./datasets/train_set/npy/David.npy\n",
      "Window count: 162, total frame: 7954\n",
      "load from file ./datasets/train_set/npy/Dummy.npy\n",
      "Window count: 132, total frame: 7256\n",
      "load from file ./datasets/train_set/npy/Erika Archer.npy\n",
      "Window count: 264, total frame: 12599\n",
      "load from file ./datasets/train_set/npy/Jackie.npy\n",
      "Window count: 266, total frame: 12453\n",
      "load from file ./datasets/train_set/npy/James.npy\n",
      "Window count: 198, total frame: 9913\n",
      "load from file ./datasets/train_set/npy/Jennifer.npy\n",
      "Window count: 129, total frame: 7077\n",
      "load from file ./datasets/train_set/npy/Josh.npy\n",
      "Window count: 130, total frame: 7130\n",
      "load from file ./datasets/train_set/npy/Kate.npy\n",
      "Window count: 172, total frame: 9190\n",
      "load from file ./datasets/train_set/npy/Knight D Pelegrini.npy\n",
      "Window count: 190, total frame: 9835\n",
      "load from file ./datasets/train_set/npy/Louise.npy\n",
      "Window count: 162, total frame: 8869\n",
      "load from file ./datasets/train_set/npy/Martha.npy\n",
      "Window count: 229, total frame: 11053\n",
      "load from file ./datasets/train_set/npy/Medea By M.npy\n",
      "Window count: 166, total frame: 8869\n",
      "load from file ./datasets/train_set/npy/Ninja.npy\n",
      "Window count: 247, total frame: 11398\n",
      "load from file ./datasets/train_set/npy/Olivia.npy\n",
      "Window count: 229, total frame: 11062\n",
      "load from file ./datasets/train_set/npy/Prisoner B.npy\n",
      "Window count: 277, total frame: 13146\n",
      "load from file ./datasets/train_set/npy/Racer.npy\n",
      "Window count: 211, total frame: 10585\n",
      "load from file ./datasets/train_set/npy/Remy.npy\n",
      "Window count: 245, total frame: 11642\n",
      "load from file ./datasets/train_set/npy/Steve.npy\n",
      "Window count: 233, total frame: 11211\n",
      "load from file ./datasets/train_set/npy/Suzie.npy\n",
      "Window count: 181, total frame: 9457\n",
      "load from file ./datasets/train_set/npy/Y bot.npy\n",
      "Window count: 209, total frame: 10581\n",
      "129\n"
     ]
    },
    {
     "ename": "FileNotFoundError",
     "evalue": "[WinError 3] 系统找不到指定的路径。: './pretrained\\\\models'",
     "output_type": "error",
     "traceback": [
      "\u001b[1;31m---------------------------------------------------------------------------\u001b[0m",
      "\u001b[1;31mFileNotFoundError\u001b[0m                         Traceback (most recent call last)",
      "\u001b[1;32m~\\AppData\\Local\\Temp\\ipykernel_13364\\3750586733.py\u001b[0m in \u001b[0;36m<module>\u001b[1;34m\u001b[0m\n\u001b[0;32m      9\u001b[0m \u001b[0mprint\u001b[0m\u001b[1;33m(\u001b[0m\u001b[0mlen\u001b[0m\u001b[1;33m(\u001b[0m\u001b[0mdataset\u001b[0m\u001b[1;33m)\u001b[0m\u001b[1;33m)\u001b[0m\u001b[1;33m\u001b[0m\u001b[1;33m\u001b[0m\u001b[0m\n\u001b[0;32m     10\u001b[0m \u001b[0mdata_loader\u001b[0m \u001b[1;33m=\u001b[0m \u001b[0mDataLoader\u001b[0m\u001b[1;33m(\u001b[0m\u001b[0mdataset\u001b[0m\u001b[1;33m,\u001b[0m \u001b[0mbatch_size\u001b[0m \u001b[1;33m=\u001b[0m \u001b[0margs\u001b[0m\u001b[1;33m.\u001b[0m\u001b[0mbatch_size\u001b[0m\u001b[1;33m,\u001b[0m \u001b[0mshuffle\u001b[0m\u001b[1;33m=\u001b[0m\u001b[1;32mTrue\u001b[0m\u001b[1;33m,\u001b[0m \u001b[0mnum_workers\u001b[0m\u001b[1;33m=\u001b[0m\u001b[1;36m0\u001b[0m\u001b[1;33m)\u001b[0m\u001b[1;33m\u001b[0m\u001b[1;33m\u001b[0m\u001b[0m\n\u001b[1;32m---> 11\u001b[1;33m \u001b[0mmodel\u001b[0m \u001b[1;33m=\u001b[0m \u001b[0mcreate_model\u001b[0m\u001b[1;33m(\u001b[0m\u001b[0margs\u001b[0m\u001b[1;33m,\u001b[0m \u001b[0mdataset\u001b[0m\u001b[1;33m)\u001b[0m\u001b[1;33m\u001b[0m\u001b[1;33m\u001b[0m\u001b[0m\n\u001b[0m\u001b[0;32m     12\u001b[0m \u001b[1;31m# for step, motions in enumerate(data_loader):\u001b[0m\u001b[1;33m\u001b[0m\u001b[1;33m\u001b[0m\u001b[1;33m\u001b[0m\u001b[0m\n\u001b[0;32m     13\u001b[0m \u001b[1;31m#     print(\"step:\", step)\u001b[0m\u001b[1;33m\u001b[0m\u001b[1;33m\u001b[0m\u001b[1;33m\u001b[0m\u001b[0m\n",
      "\u001b[1;32mg:\\Keraal_Stage\\ourGAN_lack_layer\\models\\__init__.py\u001b[0m in \u001b[0;36mcreate_model\u001b[1;34m(args, dataset)\u001b[0m\n\u001b[0;32m      5\u001b[0m     \u001b[1;32melif\u001b[0m \u001b[0margs\u001b[0m\u001b[1;33m.\u001b[0m\u001b[0mmodel\u001b[0m \u001b[1;33m==\u001b[0m \u001b[1;34m\"deep\"\u001b[0m\u001b[1;33m:\u001b[0m\u001b[1;33m\u001b[0m\u001b[1;33m\u001b[0m\u001b[0m\n\u001b[0;32m      6\u001b[0m         \u001b[1;32mfrom\u001b[0m \u001b[0mmodels\u001b[0m\u001b[1;33m.\u001b[0m\u001b[0marchitecture2\u001b[0m \u001b[1;32mimport\u001b[0m \u001b[0mDEEP_model\u001b[0m\u001b[1;33m\u001b[0m\u001b[1;33m\u001b[0m\u001b[0m\n\u001b[1;32m----> 7\u001b[1;33m         \u001b[1;32mreturn\u001b[0m \u001b[0mDEEP_model\u001b[0m\u001b[1;33m(\u001b[0m\u001b[0margs\u001b[0m\u001b[1;33m,\u001b[0m \u001b[0mdataset\u001b[0m\u001b[1;33m)\u001b[0m\u001b[1;33m\u001b[0m\u001b[1;33m\u001b[0m\u001b[0m\n\u001b[0m",
      "\u001b[1;32mg:\\Keraal_Stage\\ourGAN_lack_layer\\models\\architecture2.py\u001b[0m in \u001b[0;36m__init__\u001b[1;34m(self, args, dataset)\u001b[0m\n\u001b[0;32m     11\u001b[0m \u001b[1;32mclass\u001b[0m \u001b[0mDEEP_model\u001b[0m\u001b[1;33m(\u001b[0m\u001b[0mBaseModel\u001b[0m\u001b[1;33m)\u001b[0m\u001b[1;33m:\u001b[0m\u001b[1;33m\u001b[0m\u001b[1;33m\u001b[0m\u001b[0m\n\u001b[0;32m     12\u001b[0m     \u001b[1;32mdef\u001b[0m \u001b[0m__init__\u001b[0m\u001b[1;33m(\u001b[0m\u001b[0mself\u001b[0m\u001b[1;33m,\u001b[0m \u001b[0margs\u001b[0m\u001b[1;33m,\u001b[0m \u001b[0mdataset\u001b[0m\u001b[1;33m)\u001b[0m\u001b[1;33m:\u001b[0m\u001b[1;33m\u001b[0m\u001b[1;33m\u001b[0m\u001b[0m\n\u001b[1;32m---> 13\u001b[1;33m         \u001b[0msuper\u001b[0m\u001b[1;33m(\u001b[0m\u001b[0mDEEP_model\u001b[0m\u001b[1;33m,\u001b[0m \u001b[0mself\u001b[0m\u001b[1;33m)\u001b[0m\u001b[1;33m.\u001b[0m\u001b[0m__init__\u001b[0m\u001b[1;33m(\u001b[0m\u001b[0margs\u001b[0m\u001b[1;33m)\u001b[0m\u001b[1;33m\u001b[0m\u001b[1;33m\u001b[0m\u001b[0m\n\u001b[0m\u001b[0;32m     14\u001b[0m         \u001b[0mself\u001b[0m\u001b[1;33m.\u001b[0m\u001b[0mdataset\u001b[0m \u001b[1;33m=\u001b[0m \u001b[0mdataset\u001b[0m\u001b[1;33m\u001b[0m\u001b[1;33m\u001b[0m\u001b[0m\n\u001b[0;32m     15\u001b[0m         \u001b[0mself\u001b[0m\u001b[1;33m.\u001b[0m\u001b[0mn_topologies\u001b[0m \u001b[1;33m=\u001b[0m \u001b[0mself\u001b[0m\u001b[1;33m.\u001b[0m\u001b[0mdataset\u001b[0m\u001b[1;33m.\u001b[0m\u001b[0mcharacter_num\u001b[0m\u001b[1;33m\u001b[0m\u001b[1;33m\u001b[0m\u001b[0m\n",
      "\u001b[1;32mg:\\Keraal_Stage\\ourGAN_lack_layer\\models\\base_model.py\u001b[0m in \u001b[0;36m__init__\u001b[1;34m(self, args)\u001b[0m\n\u001b[0;32m     21\u001b[0m         \u001b[0mself\u001b[0m\u001b[1;33m.\u001b[0m\u001b[0mdevice\u001b[0m \u001b[1;33m=\u001b[0m \u001b[0mtorch\u001b[0m\u001b[1;33m.\u001b[0m\u001b[0mdevice\u001b[0m\u001b[1;33m(\u001b[0m\u001b[0margs\u001b[0m\u001b[1;33m.\u001b[0m\u001b[0mcuda_device\u001b[0m \u001b[1;32mif\u001b[0m \u001b[1;33m(\u001b[0m\u001b[0mtorch\u001b[0m\u001b[1;33m.\u001b[0m\u001b[0mcuda\u001b[0m\u001b[1;33m.\u001b[0m\u001b[0mis_available\u001b[0m\u001b[1;33m(\u001b[0m\u001b[1;33m)\u001b[0m\u001b[1;33m)\u001b[0m \u001b[1;32melse\u001b[0m \u001b[1;34m'cpu'\u001b[0m\u001b[1;33m)\u001b[0m\u001b[1;33m\u001b[0m\u001b[1;33m\u001b[0m\u001b[0m\n\u001b[0;32m     22\u001b[0m         \u001b[0mself\u001b[0m\u001b[1;33m.\u001b[0m\u001b[0mmodel_save_dir\u001b[0m \u001b[1;33m=\u001b[0m \u001b[0mos\u001b[0m\u001b[1;33m.\u001b[0m\u001b[0mpath\u001b[0m\u001b[1;33m.\u001b[0m\u001b[0mjoin\u001b[0m\u001b[1;33m(\u001b[0m\u001b[0margs\u001b[0m\u001b[1;33m.\u001b[0m\u001b[0msave_dir\u001b[0m\u001b[1;33m,\u001b[0m \u001b[1;34m'models'\u001b[0m\u001b[1;33m)\u001b[0m  \u001b[1;31m# save all the checkpoints to save_dir\u001b[0m\u001b[1;33m\u001b[0m\u001b[1;33m\u001b[0m\u001b[0m\n\u001b[1;32m---> 23\u001b[1;33m         \u001b[0mtry_mkdir\u001b[0m\u001b[1;33m(\u001b[0m\u001b[0mself\u001b[0m\u001b[1;33m.\u001b[0m\u001b[0mmodel_save_dir\u001b[0m\u001b[1;33m)\u001b[0m\u001b[1;33m\u001b[0m\u001b[1;33m\u001b[0m\u001b[0m\n\u001b[0m\u001b[0;32m     24\u001b[0m \u001b[1;33m\u001b[0m\u001b[0m\n\u001b[0;32m     25\u001b[0m         \u001b[1;32mif\u001b[0m \u001b[0mself\u001b[0m\u001b[1;33m.\u001b[0m\u001b[0mis_train\u001b[0m\u001b[1;33m:\u001b[0m\u001b[1;33m\u001b[0m\u001b[1;33m\u001b[0m\u001b[0m\n",
      "\u001b[1;32mg:\\Keraal_Stage\\ourGAN_lack_layer\\option_parser.py\u001b[0m in \u001b[0;36mtry_mkdir\u001b[1;34m(path)\u001b[0m\n\u001b[0;32m     79\u001b[0m     \u001b[1;32mimport\u001b[0m \u001b[0mos\u001b[0m\u001b[1;33m\u001b[0m\u001b[1;33m\u001b[0m\u001b[0m\n\u001b[0;32m     80\u001b[0m     \u001b[1;32mif\u001b[0m \u001b[1;32mnot\u001b[0m \u001b[0mos\u001b[0m\u001b[1;33m.\u001b[0m\u001b[0mpath\u001b[0m\u001b[1;33m.\u001b[0m\u001b[0mexists\u001b[0m\u001b[1;33m(\u001b[0m\u001b[0mpath\u001b[0m\u001b[1;33m)\u001b[0m\u001b[1;33m:\u001b[0m\u001b[1;33m\u001b[0m\u001b[1;33m\u001b[0m\u001b[0m\n\u001b[1;32m---> 81\u001b[1;33m         \u001b[0mos\u001b[0m\u001b[1;33m.\u001b[0m\u001b[0mmkdir\u001b[0m\u001b[1;33m(\u001b[0m\u001b[0mpath\u001b[0m\u001b[1;33m)\u001b[0m\u001b[1;33m\u001b[0m\u001b[1;33m\u001b[0m\u001b[0m\n\u001b[0m",
      "\u001b[1;31mFileNotFoundError\u001b[0m: [WinError 3] 系统找不到指定的路径。: './pretrained\\\\models'"
     ]
    }
   ],
   "source": [
    "from torch.utils.data.dataloader import DataLoader\n",
    "from data import create_dataset, get_character_names\n",
    "import option_parser\n",
    "from models import create_model\n",
    "import torch\n",
    "args = option_parser.get_args()\n",
    "characters = get_character_names(args)\n",
    "dataset = create_dataset(args, characters)\n",
    "print(len(dataset))\n",
    "data_loader = DataLoader(dataset, batch_size = args.batch_size, shuffle=True, num_workers=0)\n",
    "model = create_model(args, dataset)\n",
    "# for step, motions in enumerate(data_loader):\n",
    "#     print(\"step:\", step)\n",
    "#     for motion in motions:\n",
    "#         # print(idx.shape)   \n",
    "#         model.set_input(motion)\n",
    "#         model.optimize_parameters()"
   ]
  },
  {
   "cell_type": "code",
   "execution_count": 6,
   "id": "35d9fe0f",
   "metadata": {},
   "outputs": [
    {
     "name": "stdout",
     "output_type": "stream",
     "text": [
      "torch.Size([1, 23, 1])\n"
     ]
    }
   ],
   "source": [
    "a = torch.rand(23).unsqueeze(-1).unsqueeze(0)\n",
    "print(a.shape)"
   ]
  },
  {
   "cell_type": "code",
   "execution_count": 3,
   "id": "60f142ae",
   "metadata": {},
   "outputs": [
    {
     "name": "stdout",
     "output_type": "stream",
     "text": [
      "torch.Size([128, 64, 23, 2])\n"
     ]
    }
   ],
   "source": [
    "import torch.nn as nn\n",
    "m = nn.Linear(3, 2)\n",
    "input = torch.randn(128, 64, 23, 3)\n",
    "output = m(input)\n",
    "print(output.size())"
   ]
  },
  {
   "cell_type": "code",
   "execution_count": 1,
   "id": "36d032a5",
   "metadata": {},
   "outputs": [
    {
     "name": "stderr",
     "output_type": "stream",
     "text": [
      "d:\\anaconda3\\envs\\keraal\\lib\\site-packages\\tqdm\\auto.py:22: TqdmWarning: IProgress not found. Please update jupyter and ipywidgets. See https://ipywidgets.readthedocs.io/en/stable/user_install.html\n",
      "  from .autonotebook import tqdm as notebook_tqdm\n"
     ]
    }
   ],
   "source": [
    "from models.skeleton_gnn import Node2NodeLayer, Node2EdgeLayer, Edge2NodeLayer\n",
    "import torch\n",
    "def calculate_adj_matrix(topology):\n",
    "    adj = torch.zeros(len(topology), len(topology))\n",
    "    for i,j in enumerate(topology):\n",
    "        if i == 0: #the root not in\n",
    "            continue\n",
    "        adj[j,i] = 1\n",
    "    return adj\n",
    "\n",
    "topo111 = [0, 0, 1, 2, 3, 0, 5, 6, 7, 0, 9, 10, 11, 12, 13, 12, 15, 16, 17, 12, 19, 20, 21]\n",
    "input_node = torch.rand((128, 32, 23, 3))\n",
    "input_edge = torch.rand((128, 32, 23, 1))\n",
    "batch_size = 128\n",
    "frame = 32\n",
    "length = 23\n",
    "adj = calculate_adj_matrix(topo111)\n",
    "adj_matrix = torch.cat(batch_size*frame*[adj]).reshape((batch_size, frame, length, length))\n",
    "layer2 = Edge2NodeLayer(1,3,3)\n",
    "output = layer2(input_node, input_edge, adj_matrix)\n"
   ]
  },
  {
   "cell_type": "code",
   "execution_count": 10,
   "id": "8b9b17bd",
   "metadata": {},
   "outputs": [],
   "source": [
    "from torch.nn import UpsamplingBilinear2d, Upsample\n",
    "import torch\n",
    "input = torch.arange(1, 5, dtype=torch.float32).view(1, 1, 2, 2)"
   ]
  },
  {
   "cell_type": "code",
   "execution_count": 13,
   "id": "2126aa09",
   "metadata": {},
   "outputs": [
    {
     "name": "stdout",
     "output_type": "stream",
     "text": [
      "torch.Size([1, 1, 6, 10])\n"
     ]
    }
   ],
   "source": [
    "m = UpsamplingBilinear2d(scale_factor=1.679)\n",
    "m2 = Upsample(scale_factor=(3,5), mode=\"bilinear\")\n",
    "# print(m(input))\n",
    "print(m2(input).shape)"
   ]
  },
  {
   "cell_type": "code",
   "execution_count": 1,
   "id": "ef929845",
   "metadata": {},
   "outputs": [
    {
     "name": "stdout",
     "output_type": "stream",
     "text": [
      "Parameter containing:\n",
      "tensor([[-0.0493,  0.2842, -0.2260,  0.0230, -0.0785, -0.1820, -0.1898,  0.2175,\n",
      "          0.2870, -0.0038,  0.2706],\n",
      "        [ 0.2880,  0.0537, -0.0778,  0.2507,  0.0131, -0.0855,  0.0157, -0.0123,\n",
      "          0.0627, -0.1443, -0.0664]], requires_grad=True)\n",
      "tensor([[-0.4926,  2.8419, -2.2601,  0.2299, -0.7847, -1.8200, -1.8982,  2.1745,\n",
      "          2.8703, -0.0376,  2.7064],\n",
      "        [ 2.8797,  0.5373, -0.7784,  2.5070,  0.1313, -0.8552,  0.1572, -0.1228,\n",
      "          0.6269, -1.4431, -0.6638]], grad_fn=<MulBackward0>)\n"
     ]
    },
    {
     "name": "stderr",
     "output_type": "stream",
     "text": [
      "d:\\anaconda3\\envs\\keraal\\lib\\site-packages\\tqdm\\auto.py:22: TqdmWarning: IProgress not found. Please update jupyter and ipywidgets. See https://ipywidgets.readthedocs.io/en/stable/user_install.html\n",
      "  from .autonotebook import tqdm as notebook_tqdm\n"
     ]
    }
   ],
   "source": [
    "from models.skeleton_gnn import Node2EdgeLayer\n",
    "import torch\n",
    "m = Node2EdgeLayer(20,11,2)\n",
    "x = torch.randn((1,64, 3, 3))\n",
    "e = torch.randn((1,64, 3, 1))\n",
    "\n",
    "adj_matrix = torch.Tensor([\n",
    "    [\n",
    "        [0., 1., 1.],\n",
    "        [0., 0., 0.],\n",
    "        [0., 0., 0.]\n",
    "    ]\n",
    "])"
   ]
  },
  {
   "cell_type": "code",
   "execution_count": 4,
   "id": "8db2e64f",
   "metadata": {},
   "outputs": [
    {
     "name": "stdout",
     "output_type": "stream",
     "text": [
      "tensor([[6.5431, 4.2462, 2.5434, 2.2468, 4.4117, 1.4680, 6.9981, 2.7509, 2.5631,\n",
      "         5.9814, 7.0614],\n",
      "        [4.6820, 9.1086, 9.2908, 8.2059, 4.6102, 2.9461, 3.4283, 2.4934, 3.0841,\n",
      "         5.9957, 8.7028]])\n"
     ]
    }
   ],
   "source": [
    "a = torch.rand((2,11))\n",
    "print(a*10)"
   ]
  }
 ],
 "metadata": {
  "kernelspec": {
   "display_name": "Python 3 (ipykernel)",
   "language": "python",
   "name": "python3"
  },
  "language_info": {
   "codemirror_mode": {
    "name": "ipython",
    "version": 3
   },
   "file_extension": ".py",
   "mimetype": "text/x-python",
   "name": "python",
   "nbconvert_exporter": "python",
   "pygments_lexer": "ipython3",
   "version": "3.7.13"
  },
  "vscode": {
   "interpreter": {
    "hash": "977db75128c3fed9f37c471b73bfa9a12015086b1f9f641de779e86f13efb9a2"
   }
  }
 },
 "nbformat": 4,
 "nbformat_minor": 5
}
